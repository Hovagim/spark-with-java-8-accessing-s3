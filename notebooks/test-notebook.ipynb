{
 "cells": [
  {
   "cell_type": "code",
   "execution_count": 1,
   "id": "breeding-surface",
   "metadata": {},
   "outputs": [],
   "source": [
    "import os"
   ]
  },
  {
   "cell_type": "code",
   "execution_count": 2,
   "id": "resident-navigator",
   "metadata": {},
   "outputs": [],
   "source": [
    "%config Completer.use_jedi = False"
   ]
  },
  {
   "cell_type": "code",
   "execution_count": 3,
   "id": "dress-factor",
   "metadata": {},
   "outputs": [
    {
     "data": {
      "text/html": [
       "\n",
       "            <div>\n",
       "                <p><b>SparkSession - hive</b></p>\n",
       "                \n",
       "        <div>\n",
       "            <p><b>SparkContext</b></p>\n",
       "\n",
       "            <p><a href=\"http://31a646939ea6:4040\">Spark UI</a></p>\n",
       "\n",
       "            <dl>\n",
       "              <dt>Version</dt>\n",
       "                <dd><code>v3.0.2</code></dd>\n",
       "              <dt>Master</dt>\n",
       "                <dd><code>local[*]</code></dd>\n",
       "              <dt>AppName</dt>\n",
       "                <dd><code>PySparkShell</code></dd>\n",
       "            </dl>\n",
       "        </div>\n",
       "        \n",
       "            </div>\n",
       "        "
      ],
      "text/plain": [
       "<pyspark.sql.session.SparkSession at 0x7fd62d5257b8>"
      ]
     },
     "execution_count": 3,
     "metadata": {},
     "output_type": "execute_result"
    }
   ],
   "source": [
    "spark"
   ]
  },
  {
   "cell_type": "code",
   "execution_count": 4,
   "id": "marked-penalty",
   "metadata": {},
   "outputs": [],
   "source": [
    "sc = spark.sparkContext"
   ]
  },
  {
   "cell_type": "code",
   "execution_count": 5,
   "id": "optimum-commons",
   "metadata": {},
   "outputs": [],
   "source": [
    "spark_config = spark._jsc.hadoopConfiguration()"
   ]
  },
  {
   "cell_type": "code",
   "execution_count": 6,
   "id": "human-integer",
   "metadata": {},
   "outputs": [],
   "source": [
    "spark_config.set(\"fs.s3a.access.key\", os.getenv(\"AWS_ACCESS_KEY_ID\"))\n",
    "spark_config.set(\"fs.s3a.secret.key\", os.getenv(\"AWS_SECRET_ACCESS_KEY\"))\n",
    "spark_config.set(\"fs.s3a.impl\",\"org.apache.hadoop.fs.s3a.S3AFileSystem\")\n",
    "spark_config.set(\"com.amazonaws.services.s3.enableV4\", \"true\")\n",
    "spark_config.set(\"fs.s3a.endpoint\", \"s3.amazonaws.com\")"
   ]
  },
  {
   "cell_type": "code",
   "execution_count": 7,
   "id": "indie-ocean",
   "metadata": {},
   "outputs": [],
   "source": [
    "input_df = spark.read.csv('s3a://boum-boum-test/test.csv')"
   ]
  },
  {
   "cell_type": "code",
   "execution_count": 11,
   "id": "dependent-vermont",
   "metadata": {},
   "outputs": [
    {
     "name": "stdout",
     "output_type": "stream",
     "text": [
      "+------+------+\n",
      "|   _c0|   _c1|\n",
      "+------+------+\n",
      "|letter|number|\n",
      "|     a|     1|\n",
      "|     b|     2|\n",
      "|     c|     3|\n",
      "+------+------+\n",
      "\n"
     ]
    }
   ],
   "source": [
    "input_df.show()"
   ]
  },
  {
   "cell_type": "code",
   "execution_count": 15,
   "id": "spatial-breach",
   "metadata": {},
   "outputs": [],
   "source": [
    "files = sc.binaryFiles(\"s3a://boum-boum-test/Training/*\")"
   ]
  },
  {
   "cell_type": "code",
   "execution_count": 16,
   "id": "ceramic-holocaust",
   "metadata": {},
   "outputs": [
    {
     "name": "stdout",
     "output_type": "stream",
     "text": [
      "+--------------------+--------------------+\n",
      "|                  _1|                  _2|\n",
      "+--------------------+--------------------+\n",
      "|s3a://boum-boum-t...|[FF D8 FF E0 00 1...|\n",
      "|s3a://boum-boum-t...|[FF D8 FF E0 00 1...|\n",
      "|s3a://boum-boum-t...|[FF D8 FF E0 00 1...|\n",
      "|s3a://boum-boum-t...|[FF D8 FF E0 00 1...|\n",
      "|s3a://boum-boum-t...|[FF D8 FF E0 00 1...|\n",
      "|s3a://boum-boum-t...|[FF D8 FF E0 00 1...|\n",
      "|s3a://boum-boum-t...|[FF D8 FF E0 00 1...|\n",
      "|s3a://boum-boum-t...|[FF D8 FF E0 00 1...|\n",
      "|s3a://boum-boum-t...|[FF D8 FF E0 00 1...|\n",
      "|s3a://boum-boum-t...|[FF D8 FF E0 00 1...|\n",
      "|s3a://boum-boum-t...|[FF D8 FF E0 00 1...|\n",
      "|s3a://boum-boum-t...|[FF D8 FF E0 00 1...|\n",
      "|s3a://boum-boum-t...|[FF D8 FF E0 00 1...|\n",
      "|s3a://boum-boum-t...|[FF D8 FF E0 00 1...|\n",
      "|s3a://boum-boum-t...|[FF D8 FF E0 00 1...|\n",
      "|s3a://boum-boum-t...|[FF D8 FF E0 00 1...|\n",
      "|s3a://boum-boum-t...|[FF D8 FF E0 00 1...|\n",
      "|s3a://boum-boum-t...|[FF D8 FF E0 00 1...|\n",
      "|s3a://boum-boum-t...|[FF D8 FF E0 00 1...|\n",
      "|s3a://boum-boum-t...|[FF D8 FF E0 00 1...|\n",
      "+--------------------+--------------------+\n",
      "only showing top 20 rows\n",
      "\n"
     ]
    }
   ],
   "source": [
    "files.toDF().show()"
   ]
  },
  {
   "cell_type": "code",
   "execution_count": null,
   "id": "respiratory-insurance",
   "metadata": {},
   "outputs": [],
   "source": [
    "sample = files.takeSample(False, 1000)"
   ]
  },
  {
   "cell_type": "code",
   "execution_count": null,
   "id": "angry-lending",
   "metadata": {},
   "outputs": [],
   "source": [
    "sample.toDF.count()"
   ]
  },
  {
   "cell_type": "code",
   "execution_count": null,
   "id": "described-window",
   "metadata": {},
   "outputs": [],
   "source": []
  }
 ],
 "metadata": {
  "kernelspec": {
   "display_name": "Python 3",
   "language": "python",
   "name": "python3"
  },
  "language_info": {
   "codemirror_mode": {
    "name": "ipython",
    "version": 3
   },
   "file_extension": ".py",
   "mimetype": "text/x-python",
   "name": "python",
   "nbconvert_exporter": "python",
   "pygments_lexer": "ipython3",
   "version": "3.6.9"
  }
 },
 "nbformat": 4,
 "nbformat_minor": 5
}
